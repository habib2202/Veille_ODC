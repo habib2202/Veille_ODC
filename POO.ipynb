{
 "cells": [
  {
   "cell_type": "markdown",
   "id": "5e49e802",
   "metadata": {},
   "source": [
    "# Création d'une classe"
   ]
  },
  {
   "cell_type": "code",
   "execution_count": 9,
   "id": "1b2a6f51",
   "metadata": {},
   "outputs": [],
   "source": [
    "class Employe:\n",
    "    pass"
   ]
  },
  {
   "cell_type": "markdown",
   "id": "f151d9ea",
   "metadata": {},
   "source": [
    "# Attribut"
   ]
  },
  {
   "cell_type": "code",
   "execution_count": 10,
   "id": "6afbfe20",
   "metadata": {},
   "outputs": [],
   "source": [
    "class Employe:\n",
    "    prenom=\"Moussa\""
   ]
  },
  {
   "cell_type": "markdown",
   "id": "23a54e38",
   "metadata": {},
   "source": [
    "# Méthode"
   ]
  },
  {
   "cell_type": "code",
   "execution_count": 11,
   "id": "5f2b3e85",
   "metadata": {},
   "outputs": [],
   "source": [
    "class Employe:\n",
    "    prenom=\"Moussa\"\n",
    "    nom=\"Traore\"\n",
    "    def nomComplet():\n",
    "        return nom+prenom"
   ]
  },
  {
   "cell_type": "markdown",
   "id": "65113489",
   "metadata": {},
   "source": [
    "# Constructeur"
   ]
  },
  {
   "cell_type": "code",
   "execution_count": 37,
   "id": "df8f64e3",
   "metadata": {},
   "outputs": [],
   "source": [
    "class Employe:\n",
    "    def __init__(self,prenom=\"Moussa\",nom=\"Tr aore\"):\n",
    "        self.prenom=prenom\n",
    "        self.nom=nom\n",
    "    def nomComplet(self):\n",
    "        return self.nom+\" \"+self.prenom\n",
    "    "
   ]
  },
  {
   "cell_type": "code",
   "execution_count": 38,
   "id": "78ccdffd",
   "metadata": {},
   "outputs": [],
   "source": [
    "emp1=Employe(\"Karim\",\"Kaba\")"
   ]
  },
  {
   "cell_type": "code",
   "execution_count": 39,
   "id": "b5d60225",
   "metadata": {},
   "outputs": [
    {
     "name": "stdout",
     "output_type": "stream",
     "text": [
      "Kaba Karim\n"
     ]
    }
   ],
   "source": [
    "print(emp1.nomComplet())"
   ]
  },
  {
   "cell_type": "markdown",
   "id": "1a3d7125",
   "metadata": {},
   "source": [
    "# Encapsulation"
   ]
  },
  {
   "cell_type": "code",
   "execution_count": 4,
   "id": "b074b792",
   "metadata": {},
   "outputs": [
    {
     "name": "stdout",
     "output_type": "stream",
     "text": [
      "500000\n"
     ]
    }
   ],
   "source": [
    "class Voiture:\n",
    "    def __init__(self,marque,prix):\n",
    "        self._marque=marque\n",
    "        self.__prix=prix\n",
    "        \n",
    "my_car=Voiture(\"Toyota\",500000)\n",
    "print(my_car.__prix)\n",
    "#print(my_car._Voiture__prix)"
   ]
  },
  {
   "cell_type": "markdown",
   "id": "3a1761c7",
   "metadata": {},
   "source": [
    "# Accesseurs et mutateurs\n",
    " "
   ]
  },
  {
   "cell_type": "code",
   "execution_count": 3,
   "id": "776d99df",
   "metadata": {},
   "outputs": [
    {
     "name": "stdout",
     "output_type": "stream",
     "text": [
      "Moussa\n"
     ]
    },
    {
     "ename": "AttributeError",
     "evalue": "'Etudiant' object has no attribute '__prenom'",
     "output_type": "error",
     "traceback": [
      "\u001b[1;31m---------------------------------------------------------------------------\u001b[0m",
      "\u001b[1;31mAttributeError\u001b[0m                            Traceback (most recent call last)",
      "Input \u001b[1;32mIn [3]\u001b[0m, in \u001b[0;36m<cell line: 12>\u001b[1;34m()\u001b[0m\n\u001b[0;32m     10\u001b[0m \u001b[38;5;28mprint\u001b[39m(etudiant\u001b[38;5;241m.\u001b[39mget_Etudiant())\n\u001b[0;32m     11\u001b[0m etudiant\u001b[38;5;241m.\u001b[39mset_Etudiant(\u001b[38;5;124m\"\u001b[39m\u001b[38;5;124mKarim\u001b[39m\u001b[38;5;124m\"\u001b[39m)\n\u001b[1;32m---> 12\u001b[0m \u001b[38;5;28mprint\u001b[39m(\u001b[43metudiant\u001b[49m\u001b[38;5;241;43m.\u001b[39;49m\u001b[43m__prenom\u001b[49m)\n",
      "\u001b[1;31mAttributeError\u001b[0m: 'Etudiant' object has no attribute '__prenom'"
     ]
    }
   ],
   "source": [
    "class Etudiant:\n",
    "    def __init__(self,prenom):\n",
    "        self.__prenom=prenom\n",
    "    def get_Etudiant(self):\n",
    "        return self.__prenom\n",
    "    def set_Etudiant(self,prenom):\n",
    "        self.__prenom=prenom\n",
    "\n",
    "etudiant=Etudiant(\"Moussa\")\n",
    "print(etudiant.get_Etudiant())\n",
    "etudiant.set_Etudiant(\"Karim\")\n",
    "print(etudiant.get_Etudiant())"
   ]
  },
  {
   "cell_type": "markdown",
   "id": "6e932299",
   "metadata": {},
   "source": [
    "# Héritage"
   ]
  },
  {
   "cell_type": "code",
   "execution_count": 4,
   "id": "ee2916d3",
   "metadata": {},
   "outputs": [
    {
     "name": "stdout",
     "output_type": "stream",
     "text": [
      "Moussa Keita\n"
     ]
    }
   ],
   "source": [
    "#classe père\n",
    "class Personne:\n",
    "    def __init__(self,nom,prenom):\n",
    "        self.prenom=prenom\n",
    "        self.nom=nom\n",
    "    def affichenom(self):\n",
    "        print(self.prenom,self.nom)\n",
    "\n",
    "p=Personne('Keita','Moussa')\n",
    "p.affichenom()       "
   ]
  },
  {
   "cell_type": "code",
   "execution_count": 10,
   "id": "1284c046",
   "metadata": {},
   "outputs": [
    {
     "name": "stdout",
     "output_type": "stream",
     "text": [
      "Boonjour  Kaba   Karim  vous avez  25  ans\n"
     ]
    }
   ],
   "source": [
    "#Classe enfant\n",
    "class Homme(Personne):\n",
    "    def __init__(self,nom,prenom,age):\n",
    "        super().__init__(nom,prenom)\n",
    "        self.age=age\n",
    "    def affichenom_age(self):\n",
    "        print(\"Boonjour \",self.nom,\" \",self.prenom,\" vous avez \", self.age,\" ans\") \n",
    "\n",
    "h=Homme(\"Kaba\",\"Karim\",25)\n",
    "h.affichenom_age()"
   ]
  },
  {
   "cell_type": "code",
   "execution_count": null,
   "id": "76f5c672",
   "metadata": {},
   "outputs": [],
   "source": []
  }
 ],
 "metadata": {
  "kernelspec": {
   "display_name": "Python 3 (ipykernel)",
   "language": "python",
   "name": "python3"
  },
  "language_info": {
   "codemirror_mode": {
    "name": "ipython",
    "version": 3
   },
   "file_extension": ".py",
   "mimetype": "text/x-python",
   "name": "python",
   "nbconvert_exporter": "python",
   "pygments_lexer": "ipython3",
   "version": "3.9.12"
  }
 },
 "nbformat": 4,
 "nbformat_minor": 5
}
