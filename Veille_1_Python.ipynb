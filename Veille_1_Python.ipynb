{
 "cells": [
  {
   "cell_type": "markdown",
   "id": "8fe1ee7f",
   "metadata": {},
   "source": [
    "# Exo1:\n",
    "Écrire un programme qui demande le nom et l’âge d’un étudiant à l’université et afficher ‘’Bonjour …, tu as … ans et bienvenue à l’université’’ en remplaçant les … par respectivement le nom et l’âge de l’étudiant."
   ]
  },
  {
   "cell_type": "code",
   "execution_count": 11,
   "id": "e1ecc267",
   "metadata": {},
   "outputs": [
    {
     "name": "stdout",
     "output_type": "stream",
     "text": [
      "Saisir le nom de l'étudiant: DIAKITE\n",
      "Saisir l'âge de l'étudiant: 25\n",
      "Bonjour  DIAKITE  tu as  25\n"
     ]
    }
   ],
   "source": [
    "nom=input(\"Saisir le nom de l'étudiant: \")\n",
    "age=int(input(\"Saisir l'âge de l'étudiant: \"))\n",
    "print(\"Bonjour \",nom,\" tu as \",age)"
   ]
  },
  {
   "cell_type": "markdown",
   "id": "cf79af85",
   "metadata": {},
   "source": [
    "# Exo2:\n",
    "Écrire un programme qui demande à l’utilisateur de donner un nombre entier n et de lui afficher la table de multiplication de ce nombre."
   ]
  },
  {
   "cell_type": "code",
   "execution_count": 12,
   "id": "b2453b5a",
   "metadata": {},
   "outputs": [
    {
     "name": "stdout",
     "output_type": "stream",
     "text": [
      "Saisir un nombre: 9\n",
      "***********Table de multiplication de  9 ********\n",
      "9 x 1 = 9\n",
      "9 x 2 = 18\n",
      "9 x 3 = 27\n",
      "9 x 4 = 36\n",
      "9 x 5 = 45\n",
      "9 x 6 = 54\n",
      "9 x 7 = 63\n",
      "9 x 8 = 72\n",
      "9 x 9 = 81\n",
      "9 x 10 = 90\n"
     ]
    }
   ],
   "source": [
    "n=int(input(\"Saisir un nombre: \"))\n",
    "print(\"***********Table de multiplication de \",n,\"********\")\n",
    "for i in range(1, 11):\n",
    "    print(n,\"x\",i,\"=\",n*i)"
   ]
  },
  {
   "cell_type": "markdown",
   "id": "ff40dbf6",
   "metadata": {},
   "source": [
    "# Exo3: \n",
    "Ecrire un programme permettant de saisir 3 notes (sur 20) d’un étudiant, calculant sa moyenne et affichant cette moyenne avec la mention (‘’Très bien’’ à partir de 16, ‘’Bien’’ entre 14 et 16, ‘’Assez Bien’’ entre 12 et 14, ‘’Passable’’ entre 10 et 12, ‘’Insuffisant’’ en dessous de 10). \n",
    "PS: En supposant que l’utilisateur va saisir des notes comprises entre 0 et 20."
   ]
  },
  {
   "cell_type": "code",
   "execution_count": 13,
   "id": "483089d3",
   "metadata": {},
   "outputs": [
    {
     "name": "stdout",
     "output_type": "stream",
     "text": [
      "La saisie des notes \n",
      " NB: les notes sont comprises entre 0 et 20\n",
      "Saisir la 1ère note: 17\n",
      "Saisir la 2ème note: 15\n",
      "Saisir la 3ème note: 16\n",
      "Moyenne  16.0  Trèb bien\n"
     ]
    }
   ],
   "source": [
    "print(\"La saisie des notes \\n NB: les notes sont comprises entre 0 et 20\")\n",
    "note1=int(input(\"Saisir la 1ère note: \"))\n",
    "note2=int(input(\"Saisir la 2ème note: \"))\n",
    "note3=int(input(\"Saisir la 3ème note: \"))\n",
    "moyenne=(note1+note2+note3)/3\n",
    "if moyenne>=16:\n",
    "    print(\"Moyenne \", moyenne,\" Trèb bien\")\n",
    "elif moyenne>=14:\n",
    "    print(\"Moyenne \", moyenne,\" Bien\")\n",
    "elif moyenne>=12: \n",
    "    print(\"Moyenne \", moyenne,\" Assez bien\")\n",
    "elif moyenne>=10: \n",
    "    print(\"Moyenne \", moyenne,\" Passable\")\n",
    "else:\n",
    "    print(\"Moyenne \", moyenne,\" Insuffisant\")"
   ]
  },
  {
   "cell_type": "markdown",
   "id": "cc149120",
   "metadata": {},
   "source": [
    "# Exo4:\n",
    "Ecrire un programme qui demande à l’utilisateur deux nombres entiers et l’une des opérateurs suivants: +, -, *, / puis effectue l’opération correspondant et affiche le résultat de cette opération."
   ]
  },
  {
   "cell_type": "code",
   "execution_count": 14,
   "id": "8ae31abb",
   "metadata": {},
   "outputs": [
    {
     "name": "stdout",
     "output_type": "stream",
     "text": [
      "Saisir le 1er entier: 14\n",
      "Saisir 2ème entier: 16\n",
      "Saisir l'opérateur: +\n",
      "Addition:  30\n"
     ]
    }
   ],
   "source": [
    "entier1=int(input(\"Saisir le 1er entier: \"))\n",
    "entier2=int(input(\"Saisir 2ème entier: \"))\n",
    "op=input(\"Saisir l'opérateur: \")\n",
    "if op=='+':\n",
    "    print(\"Addition: \",entier1+entier2)\n",
    "if op=='-':\n",
    "    print(\"Soustraction: \",entier1-entier2)\n",
    "if op=='x':\n",
    "    print(\"Multiplication: \",entier1*entier2)\n",
    "if op=='/':\n",
    "    print(\"Division: \",entier1/entier2)"
   ]
  },
  {
   "cell_type": "markdown",
   "id": "dabec515",
   "metadata": {},
   "source": [
    "# Exo5:\n",
    "Écrire un programme qui demande un nombre de départ, et qui ensuite affiche les dix nombres suivants en utilisant la boucle for.\n",
    "Par exemple, si l’utilisateur entre le nombre 33, le programme affichera les nombres de 34 à 43."
   ]
  },
  {
   "cell_type": "code",
   "execution_count": 18,
   "id": "4750d943",
   "metadata": {},
   "outputs": [
    {
     "name": "stdout",
     "output_type": "stream",
     "text": [
      "Saisir un nombre de départ: 11\n",
      "12\n",
      "13\n",
      "14\n",
      "15\n",
      "16\n",
      "17\n",
      "18\n",
      "19\n",
      "20\n",
      "21\n"
     ]
    }
   ],
   "source": [
    "nbr=int(input(\"Saisir un nombre de départ: \"))\n",
    "for i in range(nbr+1,nbr+11):\n",
    "    print(i)"
   ]
  },
  {
   "cell_type": "markdown",
   "id": "1791f242",
   "metadata": {},
   "source": [
    "# Exo6:\n",
    "Écrire un programme qui demande un nombre positif non nul de départ, et qui calcule sa factorielle.\n",
    "Par exemple, la factorielle de 6, notée 6!, vaut 1 x 2 x 3 x 4 x 5 x 6."
   ]
  },
  {
   "cell_type": "code",
   "execution_count": 19,
   "id": "30971381",
   "metadata": {},
   "outputs": [
    {
     "name": "stdout",
     "output_type": "stream",
     "text": [
      "Saisir un nombre positif: 6\n",
      "La factorielle de  6  est:  720\n"
     ]
    }
   ],
   "source": [
    "nb=int(input(\"Saisir un nombre positif: \"))\n",
    "fact=1\n",
    "for i in range(1,nb+1):\n",
    "    fact=fact*i\n",
    "print(\"La factorielle de \", nb, \" est: \",fact)"
   ]
  },
  {
   "cell_type": "code",
   "execution_count": null,
   "id": "b4332c3d",
   "metadata": {},
   "outputs": [],
   "source": []
  }
 ],
 "metadata": {
  "kernelspec": {
   "display_name": "Python 3 (ipykernel)",
   "language": "python",
   "name": "python3"
  },
  "language_info": {
   "codemirror_mode": {
    "name": "ipython",
    "version": 3
   },
   "file_extension": ".py",
   "mimetype": "text/x-python",
   "name": "python",
   "nbconvert_exporter": "python",
   "pygments_lexer": "ipython3",
   "version": "3.9.12"
  }
 },
 "nbformat": 4,
 "nbformat_minor": 5
}
