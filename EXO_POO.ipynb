{
 "cells": [
  {
   "cell_type": "code",
   "execution_count": 9,
   "id": "fd691e85",
   "metadata": {},
   "outputs": [],
   "source": [
    "#EXO1\n",
    "class Table:\n",
    "    def __init__(self,reference,matiere,poids,hauteur,longueur,largeur,prixv,prixf,nbtable):\n",
    "        self.reference=reference\n",
    "        self.matiere=matiere\n",
    "        self.poids=poids\n",
    "        self.hauteur=hauteur\n",
    "        self.longueur=longueur\n",
    "        self.largeur=largeur\n",
    "        self.prixv=prixv\n",
    "        self.__prixf=prixf\n",
    "        self.__nbtable=nbtable\n",
    "    def getPrixf():\n",
    "        return self.__prixf\n",
    "    def getNbtable():\n",
    "        return self.__nbtable\n",
    "    def setPrixf(self,prixf):\n",
    "        self.__prixf=prixf\n",
    "    def setNbtable(self,nbtable):\n",
    "        self.__nbtable=nbtable\n",
    "    def affiche(self):\n",
    "        print(self.reference,\", \",self.matiere,\", \",self.longueur,\" cm, \",self.largeur,\" cm, \",self.hauteur,\" cm, \",self.prixv)\n",
    "    def calculGain(self):\n",
    "        return self.prixv-self.__prixf"
   ]
  },
  {
   "cell_type": "code",
   "execution_count": 11,
   "id": "3ab43375",
   "metadata": {},
   "outputs": [
    {
     "name": "stdout",
     "output_type": "stream",
     "text": [
      "Tab2 ,  Bois ,  400  cm,  300  cm,  500  cm,  15000\n"
     ]
    }
   ],
   "source": [
    "T=Table(\"Tab2\",\"Bois\",15,500,400,300,15000,10000,1)\n",
    "T.affiche()"
   ]
  },
  {
   "cell_type": "code",
   "execution_count": 12,
   "id": "91cab6c9",
   "metadata": {},
   "outputs": [
    {
     "name": "stdout",
     "output_type": "stream",
     "text": [
      "5000\n"
     ]
    }
   ],
   "source": [
    "print(T.calculGain())"
   ]
  },
  {
   "cell_type": "code",
   "execution_count": 18,
   "id": "7c79f0b0",
   "metadata": {},
   "outputs": [],
   "source": [
    "#EXO2\n",
    "class Pet:\n",
    "    def __init__(self):\n",
    "        name=input(\"Entrez le nom de l'animal: \")\n",
    "        animalType=input(\"Entrez le type de l'animal: \")\n",
    "        age=int(input(\"Saisir l'âge de l'animal: \"))\n",
    "        self.__name=name\n",
    "        self.__animalType=animalType\n",
    "        self.__age=age\n",
    "    def getName(self):\n",
    "        return self.__name\n",
    "    def getanimalType(self):\n",
    "        return self.__animalType\n",
    "    def getAge(self):\n",
    "        return self.__age\n",
    "    def setName(self,name):\n",
    "        self.__name=name\n",
    "    def setanimalType(self,animalType):\n",
    "        self.__animalType=animalType\n",
    "    def setAge(self,age):\n",
    "        self.__age=age"
   ]
  },
  {
   "cell_type": "code",
   "execution_count": 22,
   "id": "8e700f7c",
   "metadata": {},
   "outputs": [
    {
     "name": "stdout",
     "output_type": "stream",
     "text": [
      "Entrez le nom de l'animal: Lion\n",
      "Entrez le type de l'animal: Carnivore\n",
      "Saisir l'âge de l'animal: 2\n",
      "Lion\n",
      "Carnivore\n",
      "2\n"
     ]
    }
   ],
   "source": [
    "P=Pet()\n",
    "print(P.getName())\n",
    "print(P.getanimalType())\n",
    "print(P.getAge())"
   ]
  },
  {
   "cell_type": "code",
   "execution_count": 16,
   "id": "a0a303ab",
   "metadata": {},
   "outputs": [],
   "source": [
    "#EXO3\n",
    "#I\n",
    "class Personne:\n",
    "    def __init__(self,nom,prenom,cin):\n",
    "        self._nom=nom\n",
    "        self._prenom=prenom\n",
    "        self._cin=cin\n",
    "    def ToString(self):\n",
    "        return \"Nom: \"+self._nom+\"\\nPrénom: \"+self._prenom+\"\\nCin: \"+self._cin"
   ]
  },
  {
   "cell_type": "code",
   "execution_count": 17,
   "id": "21cc9e3c",
   "metadata": {},
   "outputs": [],
   "source": [
    "#II\n",
    "class Vaccine(Personne):\n",
    "    def __init__(self,nom,prenom,cin,code,date):\n",
    "        super().__init__(nom,prenom,cin)\n",
    "        self.__code=code\n",
    "        self.__date=date\n",
    "    def getCode(self):\n",
    "        return self.__code\n",
    "    def getDate(self):\n",
    "        return self.__date\n",
    "    def setCode(self,code):\n",
    "        self.__code=code\n",
    "    def setDate(self,date):\n",
    "        self.__date=date\n",
    "    def ToString(self):\n",
    "        return super().ToString()+\"\\nCode vaccination: \"+self.__code+\"\\nDate vaccination: \"+self.__date "
   ]
  },
  {
   "cell_type": "code",
   "execution_count": 23,
   "id": "bc728b3a",
   "metadata": {},
   "outputs": [],
   "source": [
    "#III\n",
    "class Vaccin(Personne):\n",
    "    def __init__(self,nom,prenom,codev,nomv,duree):\n",
    "        super().__init__(nom,prenom,cin)\n",
    "        self.__codev=codev\n",
    "        self.__nomv=nomv\n",
    "        self.__duree=duree\n",
    "    def ToString():\n",
    "        return super().ToString()+\"\\nCode vaccin: \"+self.__codev+\"\\nNom vaccin: \"+self.__nomv+\"\\nDurée: \"+self.__duree\n",
    "        "
   ]
  },
  {
   "cell_type": "code",
   "execution_count": null,
   "id": "6b21cb8c",
   "metadata": {},
   "outputs": [],
   "source": []
  }
 ],
 "metadata": {
  "kernelspec": {
   "display_name": "Python 3 (ipykernel)",
   "language": "python",
   "name": "python3"
  },
  "language_info": {
   "codemirror_mode": {
    "name": "ipython",
    "version": 3
   },
   "file_extension": ".py",
   "mimetype": "text/x-python",
   "name": "python",
   "nbconvert_exporter": "python",
   "pygments_lexer": "ipython3",
   "version": "3.9.12"
  }
 },
 "nbformat": 4,
 "nbformat_minor": 5
}
